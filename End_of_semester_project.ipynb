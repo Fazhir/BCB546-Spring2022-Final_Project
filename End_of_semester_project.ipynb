{
 "cells": [
  {
   "cell_type": "markdown",
   "id": "f0b27be0",
   "metadata": {},
   "source": [
    "# End of semester project\n",
    "### Data inspection\n",
    "### visualization of the data\n",
    "### Images are added to the slide"
   ]
  },
  {
   "cell_type": "code",
   "execution_count": 2,
   "id": "de135ec1",
   "metadata": {},
   "outputs": [],
   "source": [
    "import pandas as pd"
   ]
  },
  {
   "cell_type": "code",
   "execution_count": 3,
   "id": "088ae1bc",
   "metadata": {},
   "outputs": [],
   "source": [
    "s2_data = pd.read_csv('S2_Dataset.csv')"
   ]
  },
  {
   "cell_type": "code",
   "execution_count": 4,
   "id": "1d52524a",
   "metadata": {},
   "outputs": [
    {
     "data": {
      "text/html": [
       "<div>\n",
       "<style scoped>\n",
       "    .dataframe tbody tr th:only-of-type {\n",
       "        vertical-align: middle;\n",
       "    }\n",
       "\n",
       "    .dataframe tbody tr th {\n",
       "        vertical-align: top;\n",
       "    }\n",
       "\n",
       "    .dataframe thead th {\n",
       "        text-align: right;\n",
       "    }\n",
       "</style>\n",
       "<table border=\"1\" class=\"dataframe\">\n",
       "  <thead>\n",
       "    <tr style=\"text-align: right;\">\n",
       "      <th></th>\n",
       "      <th>GeneID</th>\n",
       "      <th>Gene Length</th>\n",
       "      <th>RPKM-Group NI</th>\n",
       "      <th>RPKM-Group I</th>\n",
       "      <th>log2Ratio(Group I/Group NI)</th>\n",
       "      <th>Up-Down-Regulation(Group I/Group NI)</th>\n",
       "      <th>Probability</th>\n",
       "    </tr>\n",
       "  </thead>\n",
       "  <tbody>\n",
       "    <tr>\n",
       "      <th>0</th>\n",
       "      <td>ENSSSCG00000026951</td>\n",
       "      <td>1013.0</td>\n",
       "      <td>29.200000</td>\n",
       "      <td>1.680000</td>\n",
       "      <td>-4.119435</td>\n",
       "      <td>Down</td>\n",
       "      <td>0.896351</td>\n",
       "    </tr>\n",
       "    <tr>\n",
       "      <th>1</th>\n",
       "      <td>ENSSSCG00000025928</td>\n",
       "      <td>645.0</td>\n",
       "      <td>801.721667</td>\n",
       "      <td>2709.401667</td>\n",
       "      <td>1.756801</td>\n",
       "      <td>Up</td>\n",
       "      <td>0.802493</td>\n",
       "    </tr>\n",
       "    <tr>\n",
       "      <th>2</th>\n",
       "      <td>ENSSSCG00000022701</td>\n",
       "      <td>1033.0</td>\n",
       "      <td>0.043333</td>\n",
       "      <td>16.563333</td>\n",
       "      <td>8.578300</td>\n",
       "      <td>Up</td>\n",
       "      <td>0.922382</td>\n",
       "    </tr>\n",
       "    <tr>\n",
       "      <th>3</th>\n",
       "      <td>ENSSSCG00000003524</td>\n",
       "      <td>1097.0</td>\n",
       "      <td>0.658333</td>\n",
       "      <td>13.771667</td>\n",
       "      <td>4.386741</td>\n",
       "      <td>Up</td>\n",
       "      <td>0.862611</td>\n",
       "    </tr>\n",
       "    <tr>\n",
       "      <th>4</th>\n",
       "      <td>ENSSSCG00000000033</td>\n",
       "      <td>799.0</td>\n",
       "      <td>88.403333</td>\n",
       "      <td>307.465000</td>\n",
       "      <td>1.798250</td>\n",
       "      <td>Up</td>\n",
       "      <td>0.802276</td>\n",
       "    </tr>\n",
       "    <tr>\n",
       "      <th>...</th>\n",
       "      <td>...</td>\n",
       "      <td>...</td>\n",
       "      <td>...</td>\n",
       "      <td>...</td>\n",
       "      <td>...</td>\n",
       "      <td>...</td>\n",
       "      <td>...</td>\n",
       "    </tr>\n",
       "    <tr>\n",
       "      <th>115</th>\n",
       "      <td>ENSSSCG00000015384</td>\n",
       "      <td>422.0</td>\n",
       "      <td>23.878333</td>\n",
       "      <td>96.565000</td>\n",
       "      <td>2.015798</td>\n",
       "      <td>Up</td>\n",
       "      <td>0.822837</td>\n",
       "    </tr>\n",
       "    <tr>\n",
       "      <th>116</th>\n",
       "      <td>ENSSSCG00000003046</td>\n",
       "      <td>854.0</td>\n",
       "      <td>73.743333</td>\n",
       "      <td>257.098333</td>\n",
       "      <td>1.801736</td>\n",
       "      <td>Up</td>\n",
       "      <td>0.801274</td>\n",
       "    </tr>\n",
       "    <tr>\n",
       "      <th>117</th>\n",
       "      <td>ENSSSCG00000030893</td>\n",
       "      <td>385.0</td>\n",
       "      <td>86.435000</td>\n",
       "      <td>334.785000</td>\n",
       "      <td>1.953547</td>\n",
       "      <td>Up</td>\n",
       "      <td>0.822025</td>\n",
       "    </tr>\n",
       "    <tr>\n",
       "      <th>118</th>\n",
       "      <td>ENSSSCG00000005371</td>\n",
       "      <td>2208.0</td>\n",
       "      <td>19.320000</td>\n",
       "      <td>2.541667</td>\n",
       "      <td>-2.926248</td>\n",
       "      <td>Down</td>\n",
       "      <td>0.826709</td>\n",
       "    </tr>\n",
       "    <tr>\n",
       "      <th>119</th>\n",
       "      <td>ENSSSCG00000003109</td>\n",
       "      <td>1151.0</td>\n",
       "      <td>9.180000</td>\n",
       "      <td>40.536667</td>\n",
       "      <td>2.142661</td>\n",
       "      <td>Up</td>\n",
       "      <td>0.810835</td>\n",
       "    </tr>\n",
       "  </tbody>\n",
       "</table>\n",
       "<p>120 rows × 7 columns</p>\n",
       "</div>"
      ],
      "text/plain": [
       "                 GeneID  Gene Length  RPKM-Group NI  RPKM-Group I  \\\n",
       "0    ENSSSCG00000026951       1013.0      29.200000      1.680000   \n",
       "1    ENSSSCG00000025928        645.0     801.721667   2709.401667   \n",
       "2    ENSSSCG00000022701       1033.0       0.043333     16.563333   \n",
       "3    ENSSSCG00000003524       1097.0       0.658333     13.771667   \n",
       "4    ENSSSCG00000000033        799.0      88.403333    307.465000   \n",
       "..                  ...          ...            ...           ...   \n",
       "115  ENSSSCG00000015384        422.0      23.878333     96.565000   \n",
       "116  ENSSSCG00000003046        854.0      73.743333    257.098333   \n",
       "117  ENSSSCG00000030893        385.0      86.435000    334.785000   \n",
       "118  ENSSSCG00000005371       2208.0      19.320000      2.541667   \n",
       "119  ENSSSCG00000003109       1151.0       9.180000     40.536667   \n",
       "\n",
       "     log2Ratio(Group I/Group NI) Up-Down-Regulation(Group I/Group NI)  \\\n",
       "0                      -4.119435                                 Down   \n",
       "1                       1.756801                                   Up   \n",
       "2                       8.578300                                   Up   \n",
       "3                       4.386741                                   Up   \n",
       "4                       1.798250                                   Up   \n",
       "..                           ...                                  ...   \n",
       "115                     2.015798                                   Up   \n",
       "116                     1.801736                                   Up   \n",
       "117                     1.953547                                   Up   \n",
       "118                    -2.926248                                 Down   \n",
       "119                     2.142661                                   Up   \n",
       "\n",
       "     Probability  \n",
       "0       0.896351  \n",
       "1       0.802493  \n",
       "2       0.922382  \n",
       "3       0.862611  \n",
       "4       0.802276  \n",
       "..           ...  \n",
       "115     0.822837  \n",
       "116     0.801274  \n",
       "117     0.822025  \n",
       "118     0.826709  \n",
       "119     0.810835  \n",
       "\n",
       "[120 rows x 7 columns]"
      ]
     },
     "execution_count": 4,
     "metadata": {},
     "output_type": "execute_result"
    }
   ],
   "source": [
    "s2_data"
   ]
  },
  {
   "cell_type": "code",
   "execution_count": 5,
   "id": "1232e6f6",
   "metadata": {},
   "outputs": [
    {
     "data": {
      "text/plain": [
       "(120, 7)"
      ]
     },
     "execution_count": 5,
     "metadata": {},
     "output_type": "execute_result"
    }
   ],
   "source": [
    "s2_data.shape"
   ]
  },
  {
   "cell_type": "code",
   "execution_count": 6,
   "id": "4bb2e2cd",
   "metadata": {},
   "outputs": [
    {
     "data": {
      "text/plain": [
       "pandas.core.frame.DataFrame"
      ]
     },
     "execution_count": 6,
     "metadata": {},
     "output_type": "execute_result"
    }
   ],
   "source": [
    "type(s2_data)"
   ]
  },
  {
   "cell_type": "code",
   "execution_count": 7,
   "id": "238f3ced",
   "metadata": {},
   "outputs": [
    {
     "data": {
      "text/plain": [
       "GeneID                                   object\n",
       "Gene Length                             float64\n",
       "RPKM-Group NI                           float64\n",
       "RPKM-Group I                            float64\n",
       "log2Ratio(Group I/Group NI)             float64\n",
       "Up-Down-Regulation(Group I/Group NI)     object\n",
       "Probability                             float64\n",
       "dtype: object"
      ]
     },
     "execution_count": 7,
     "metadata": {},
     "output_type": "execute_result"
    }
   ],
   "source": [
    "s2_data.dtypes"
   ]
  },
  {
   "cell_type": "code",
   "execution_count": 8,
   "id": "8a11dcb2",
   "metadata": {},
   "outputs": [
    {
     "data": {
      "text/plain": [
       "Index(['GeneID', 'Gene Length', 'RPKM-Group NI', 'RPKM-Group I',\n",
       "       'log2Ratio(Group I/Group NI)', 'Up-Down-Regulation(Group I/Group NI)',\n",
       "       'Probability'],\n",
       "      dtype='object')"
      ]
     },
     "execution_count": 8,
     "metadata": {},
     "output_type": "execute_result"
    }
   ],
   "source": [
    "s2_data.columns"
   ]
  },
  {
   "cell_type": "code",
   "execution_count": 9,
   "id": "08cbb8ce",
   "metadata": {},
   "outputs": [
    {
     "data": {
      "text/html": [
       "<div>\n",
       "<style scoped>\n",
       "    .dataframe tbody tr th:only-of-type {\n",
       "        vertical-align: middle;\n",
       "    }\n",
       "\n",
       "    .dataframe tbody tr th {\n",
       "        vertical-align: top;\n",
       "    }\n",
       "\n",
       "    .dataframe thead th {\n",
       "        text-align: right;\n",
       "    }\n",
       "</style>\n",
       "<table border=\"1\" class=\"dataframe\">\n",
       "  <thead>\n",
       "    <tr style=\"text-align: right;\">\n",
       "      <th></th>\n",
       "      <th>GeneID</th>\n",
       "      <th>Gene Length</th>\n",
       "      <th>RPKM-Group NI</th>\n",
       "      <th>RPKM-Group I</th>\n",
       "      <th>log2Ratio(Group I/Group NI)</th>\n",
       "      <th>Up-Down-Regulation(Group I/Group NI)</th>\n",
       "      <th>Probability</th>\n",
       "    </tr>\n",
       "  </thead>\n",
       "  <tbody>\n",
       "    <tr>\n",
       "      <th>114</th>\n",
       "      <td>ENSSSCG00000011266</td>\n",
       "      <td>636.0</td>\n",
       "      <td>703.063333</td>\n",
       "      <td>2395.051667</td>\n",
       "      <td>1.768330</td>\n",
       "      <td>Up</td>\n",
       "      <td>0.803989</td>\n",
       "    </tr>\n",
       "    <tr>\n",
       "      <th>115</th>\n",
       "      <td>ENSSSCG00000015384</td>\n",
       "      <td>422.0</td>\n",
       "      <td>23.878333</td>\n",
       "      <td>96.565000</td>\n",
       "      <td>2.015798</td>\n",
       "      <td>Up</td>\n",
       "      <td>0.822837</td>\n",
       "    </tr>\n",
       "    <tr>\n",
       "      <th>116</th>\n",
       "      <td>ENSSSCG00000003046</td>\n",
       "      <td>854.0</td>\n",
       "      <td>73.743333</td>\n",
       "      <td>257.098333</td>\n",
       "      <td>1.801736</td>\n",
       "      <td>Up</td>\n",
       "      <td>0.801274</td>\n",
       "    </tr>\n",
       "    <tr>\n",
       "      <th>117</th>\n",
       "      <td>ENSSSCG00000030893</td>\n",
       "      <td>385.0</td>\n",
       "      <td>86.435000</td>\n",
       "      <td>334.785000</td>\n",
       "      <td>1.953547</td>\n",
       "      <td>Up</td>\n",
       "      <td>0.822025</td>\n",
       "    </tr>\n",
       "    <tr>\n",
       "      <th>118</th>\n",
       "      <td>ENSSSCG00000005371</td>\n",
       "      <td>2208.0</td>\n",
       "      <td>19.320000</td>\n",
       "      <td>2.541667</td>\n",
       "      <td>-2.926248</td>\n",
       "      <td>Down</td>\n",
       "      <td>0.826709</td>\n",
       "    </tr>\n",
       "    <tr>\n",
       "      <th>119</th>\n",
       "      <td>ENSSSCG00000003109</td>\n",
       "      <td>1151.0</td>\n",
       "      <td>9.180000</td>\n",
       "      <td>40.536667</td>\n",
       "      <td>2.142661</td>\n",
       "      <td>Up</td>\n",
       "      <td>0.810835</td>\n",
       "    </tr>\n",
       "  </tbody>\n",
       "</table>\n",
       "</div>"
      ],
      "text/plain": [
       "                 GeneID  Gene Length  RPKM-Group NI  RPKM-Group I  \\\n",
       "114  ENSSSCG00000011266        636.0     703.063333   2395.051667   \n",
       "115  ENSSSCG00000015384        422.0      23.878333     96.565000   \n",
       "116  ENSSSCG00000003046        854.0      73.743333    257.098333   \n",
       "117  ENSSSCG00000030893        385.0      86.435000    334.785000   \n",
       "118  ENSSSCG00000005371       2208.0      19.320000      2.541667   \n",
       "119  ENSSSCG00000003109       1151.0       9.180000     40.536667   \n",
       "\n",
       "     log2Ratio(Group I/Group NI) Up-Down-Regulation(Group I/Group NI)  \\\n",
       "114                     1.768330                                   Up   \n",
       "115                     2.015798                                   Up   \n",
       "116                     1.801736                                   Up   \n",
       "117                     1.953547                                   Up   \n",
       "118                    -2.926248                                 Down   \n",
       "119                     2.142661                                   Up   \n",
       "\n",
       "     Probability  \n",
       "114     0.803989  \n",
       "115     0.822837  \n",
       "116     0.801274  \n",
       "117     0.822025  \n",
       "118     0.826709  \n",
       "119     0.810835  "
      ]
     },
     "execution_count": 9,
     "metadata": {},
     "output_type": "execute_result"
    }
   ],
   "source": [
    "s2_data.head(6)\n",
    "s2_data.tail(6)"
   ]
  },
  {
   "cell_type": "markdown",
   "id": "78e07c02",
   "metadata": {},
   "source": [
    "## Summary Statistics"
   ]
  },
  {
   "cell_type": "code",
   "execution_count": 10,
   "id": "d0cc38ca",
   "metadata": {},
   "outputs": [],
   "source": [
    "RPKM = s2_data.groupby(['RPKM-Group NI', 'RPKM-Group I'])"
   ]
  },
  {
   "cell_type": "code",
   "execution_count": 56,
   "id": "08729e86",
   "metadata": {},
   "outputs": [
    {
     "data": {
      "text/html": [
       "<div>\n",
       "<style scoped>\n",
       "    .dataframe tbody tr th:only-of-type {\n",
       "        vertical-align: middle;\n",
       "    }\n",
       "\n",
       "    .dataframe tbody tr th {\n",
       "        vertical-align: top;\n",
       "    }\n",
       "\n",
       "    .dataframe thead th {\n",
       "        text-align: right;\n",
       "    }\n",
       "</style>\n",
       "<table border=\"1\" class=\"dataframe\">\n",
       "  <thead>\n",
       "    <tr style=\"text-align: right;\">\n",
       "      <th></th>\n",
       "      <th></th>\n",
       "      <th>count</th>\n",
       "      <th>unique</th>\n",
       "      <th>top</th>\n",
       "      <th>freq</th>\n",
       "    </tr>\n",
       "    <tr>\n",
       "      <th>RPKM-Group NI</th>\n",
       "      <th>RPKM-Group I</th>\n",
       "      <th></th>\n",
       "      <th></th>\n",
       "      <th></th>\n",
       "      <th></th>\n",
       "    </tr>\n",
       "  </thead>\n",
       "  <tbody>\n",
       "    <tr>\n",
       "      <th>0.015000</th>\n",
       "      <th>5.326667</th>\n",
       "      <td>1</td>\n",
       "      <td>1</td>\n",
       "      <td>ENSSSCG00000026986</td>\n",
       "      <td>1</td>\n",
       "    </tr>\n",
       "    <tr>\n",
       "      <th>0.043333</th>\n",
       "      <th>16.563333</th>\n",
       "      <td>1</td>\n",
       "      <td>1</td>\n",
       "      <td>ENSSSCG00000022701</td>\n",
       "      <td>1</td>\n",
       "    </tr>\n",
       "    <tr>\n",
       "      <th>0.156667</th>\n",
       "      <th>6.376667</th>\n",
       "      <td>1</td>\n",
       "      <td>1</td>\n",
       "      <td>ENSSSCG00000006450</td>\n",
       "      <td>1</td>\n",
       "    </tr>\n",
       "    <tr>\n",
       "      <th>0.360000</th>\n",
       "      <th>39.323333</th>\n",
       "      <td>1</td>\n",
       "      <td>1</td>\n",
       "      <td>ENSSSCG00000017037</td>\n",
       "      <td>1</td>\n",
       "    </tr>\n",
       "    <tr>\n",
       "      <th>0.451667</th>\n",
       "      <th>8.920000</th>\n",
       "      <td>1</td>\n",
       "      <td>1</td>\n",
       "      <td>ENSSSCG00000015663</td>\n",
       "      <td>1</td>\n",
       "    </tr>\n",
       "    <tr>\n",
       "      <th>...</th>\n",
       "      <th>...</th>\n",
       "      <td>...</td>\n",
       "      <td>...</td>\n",
       "      <td>...</td>\n",
       "      <td>...</td>\n",
       "    </tr>\n",
       "    <tr>\n",
       "      <th>958.828333</th>\n",
       "      <th>3352.601667</th>\n",
       "      <td>1</td>\n",
       "      <td>1</td>\n",
       "      <td>ENSSSCG00000013002</td>\n",
       "      <td>1</td>\n",
       "    </tr>\n",
       "    <tr>\n",
       "      <th>1579.415000</th>\n",
       "      <th>5334.661667</th>\n",
       "      <td>1</td>\n",
       "      <td>1</td>\n",
       "      <td>ENSSSCG00000004177</td>\n",
       "      <td>1</td>\n",
       "    </tr>\n",
       "    <tr>\n",
       "      <th>1682.218333</th>\n",
       "      <th>7186.073333</th>\n",
       "      <td>1</td>\n",
       "      <td>1</td>\n",
       "      <td>ENSSSCG00000010044</td>\n",
       "      <td>1</td>\n",
       "    </tr>\n",
       "    <tr>\n",
       "      <th>2440.978333</th>\n",
       "      <th>488.880000</th>\n",
       "      <td>1</td>\n",
       "      <td>1</td>\n",
       "      <td>ENSSSCG00000021159</td>\n",
       "      <td>1</td>\n",
       "    </tr>\n",
       "    <tr>\n",
       "      <th>378857.461700</th>\n",
       "      <th>97218.986670</th>\n",
       "      <td>1</td>\n",
       "      <td>1</td>\n",
       "      <td>ENSSSCG00000007978</td>\n",
       "      <td>1</td>\n",
       "    </tr>\n",
       "  </tbody>\n",
       "</table>\n",
       "<p>120 rows × 4 columns</p>\n",
       "</div>"
      ],
      "text/plain": [
       "                           count unique                 top freq\n",
       "RPKM-Group NI RPKM-Group I                                      \n",
       "0.015000      5.326667         1      1  ENSSSCG00000026986    1\n",
       "0.043333      16.563333        1      1  ENSSSCG00000022701    1\n",
       "0.156667      6.376667         1      1  ENSSSCG00000006450    1\n",
       "0.360000      39.323333        1      1  ENSSSCG00000017037    1\n",
       "0.451667      8.920000         1      1  ENSSSCG00000015663    1\n",
       "...                          ...    ...                 ...  ...\n",
       "958.828333    3352.601667      1      1  ENSSSCG00000013002    1\n",
       "1579.415000   5334.661667      1      1  ENSSSCG00000004177    1\n",
       "1682.218333   7186.073333      1      1  ENSSSCG00000010044    1\n",
       "2440.978333   488.880000       1      1  ENSSSCG00000021159    1\n",
       "378857.461700 97218.986670     1      1  ENSSSCG00000007978    1\n",
       "\n",
       "[120 rows x 4 columns]"
      ]
     },
     "execution_count": 56,
     "metadata": {},
     "output_type": "execute_result"
    }
   ],
   "source": [
    "RPKM['GeneID'].describe()\n"
   ]
  },
  {
   "cell_type": "code",
   "execution_count": 29,
   "id": "d2e323a4",
   "metadata": {},
   "outputs": [],
   "source": [
    "regulation = s2_data.groupby('Up-Down-Regulation(Group I/Group NI)')"
   ]
  },
  {
   "cell_type": "code",
   "execution_count": 30,
   "id": "b16a5008",
   "metadata": {},
   "outputs": [
    {
     "data": {
      "text/html": [
       "<div>\n",
       "<style scoped>\n",
       "    .dataframe tbody tr th:only-of-type {\n",
       "        vertical-align: middle;\n",
       "    }\n",
       "\n",
       "    .dataframe tbody tr th {\n",
       "        vertical-align: top;\n",
       "    }\n",
       "\n",
       "    .dataframe thead th {\n",
       "        text-align: right;\n",
       "    }\n",
       "</style>\n",
       "<table border=\"1\" class=\"dataframe\">\n",
       "  <thead>\n",
       "    <tr style=\"text-align: right;\">\n",
       "      <th></th>\n",
       "      <th>count</th>\n",
       "      <th>unique</th>\n",
       "      <th>top</th>\n",
       "      <th>freq</th>\n",
       "    </tr>\n",
       "    <tr>\n",
       "      <th>Up-Down-Regulation(Group I/Group NI)</th>\n",
       "      <th></th>\n",
       "      <th></th>\n",
       "      <th></th>\n",
       "      <th></th>\n",
       "    </tr>\n",
       "  </thead>\n",
       "  <tbody>\n",
       "    <tr>\n",
       "      <th>Down</th>\n",
       "      <td>10</td>\n",
       "      <td>10</td>\n",
       "      <td>ENSSSCG00000026951</td>\n",
       "      <td>1</td>\n",
       "    </tr>\n",
       "    <tr>\n",
       "      <th>Up</th>\n",
       "      <td>110</td>\n",
       "      <td>110</td>\n",
       "      <td>ENSSSCG00000025928</td>\n",
       "      <td>1</td>\n",
       "    </tr>\n",
       "  </tbody>\n",
       "</table>\n",
       "</div>"
      ],
      "text/plain": [
       "                                     count unique                 top freq\n",
       "Up-Down-Regulation(Group I/Group NI)                                      \n",
       "Down                                    10     10  ENSSSCG00000026951    1\n",
       "Up                                     110    110  ENSSSCG00000025928    1"
      ]
     },
     "execution_count": 30,
     "metadata": {},
     "output_type": "execute_result"
    }
   ],
   "source": [
    "regulation['GeneID'].describe()"
   ]
  },
  {
   "cell_type": "code",
   "execution_count": 13,
   "id": "0462ffbc",
   "metadata": {},
   "outputs": [],
   "source": [
    "Genes_regulation = s2_data.groupby('Up-Down-Regulation(Group I/Group NI)')['GeneID'].nunique()"
   ]
  },
  {
   "cell_type": "code",
   "execution_count": 15,
   "id": "863e36a9",
   "metadata": {},
   "outputs": [
    {
     "data": {
      "text/plain": [
       "Up-Down-Regulation(Group I/Group NI)\n",
       "Down     10\n",
       "Up      110\n",
       "Name: GeneID, dtype: int64"
      ]
     },
     "execution_count": 15,
     "metadata": {},
     "output_type": "execute_result"
    }
   ],
   "source": [
    "Genes_regulation"
   ]
  },
  {
   "cell_type": "code",
   "execution_count": 17,
   "id": "9ee2050f",
   "metadata": {
    "scrolled": true
   },
   "outputs": [
    {
     "data": {
      "text/plain": [
       "<AxesSubplot:title={'center':'gene_regulation'}, xlabel='Up-Down-Regulation(Group I/Group NI)'>"
      ]
     },
     "execution_count": 17,
     "metadata": {},
     "output_type": "execute_result"
    },
    {
     "data": {
      "image/png": "[encoded data removed]",
      "text/plain": [
       "<Figure size 432x288 with 1 Axes>"
      ]
     },
     "metadata": {
      "needs_background": "light"
     },
     "output_type": "display_data"
    }
   ],
   "source": [
    "Genes_regulation.plot(kind ='bar', title='gene_regulation')"
   ]
  },
  {
   "cell_type": "markdown",
   "id": "8d87cad6",
   "metadata": {},
   "source": [
    "## Visualizing"
   ]
  },
  {
   "cell_type": "code",
   "execution_count": 18,
   "id": "f73ef828",
   "metadata": {},
   "outputs": [],
   "source": [
    "import pandas as pd\n",
    "import matplotlib.pyplot as plt\n",
    "import seaborn as sns"
   ]
  },
  {
   "cell_type": "code",
   "execution_count": 19,
   "id": "4dea4ca0",
   "metadata": {},
   "outputs": [
    {
     "data": {
      "text/html": [
       "<div>\n",
       "<style scoped>\n",
       "    .dataframe tbody tr th:only-of-type {\n",
       "        vertical-align: middle;\n",
       "    }\n",
       "\n",
       "    .dataframe tbody tr th {\n",
       "        vertical-align: top;\n",
       "    }\n",
       "\n",
       "    .dataframe thead th {\n",
       "        text-align: right;\n",
       "    }\n",
       "</style>\n",
       "<table border=\"1\" class=\"dataframe\">\n",
       "  <thead>\n",
       "    <tr style=\"text-align: right;\">\n",
       "      <th></th>\n",
       "      <th>GeneID</th>\n",
       "      <th>Gene Length</th>\n",
       "      <th>RPKM-Group NI</th>\n",
       "      <th>RPKM-Group I</th>\n",
       "      <th>log2Ratio(Group I/Group NI)</th>\n",
       "      <th>Up-Down-Regulation(Group I/Group NI)</th>\n",
       "      <th>Probability</th>\n",
       "    </tr>\n",
       "  </thead>\n",
       "  <tbody>\n",
       "    <tr>\n",
       "      <th>0</th>\n",
       "      <td>ENSSSCG00000026951</td>\n",
       "      <td>1013.0</td>\n",
       "      <td>29.200000</td>\n",
       "      <td>1.680000</td>\n",
       "      <td>-4.119435</td>\n",
       "      <td>Down</td>\n",
       "      <td>0.896351</td>\n",
       "    </tr>\n",
       "    <tr>\n",
       "      <th>1</th>\n",
       "      <td>ENSSSCG00000025928</td>\n",
       "      <td>645.0</td>\n",
       "      <td>801.721667</td>\n",
       "      <td>2709.401667</td>\n",
       "      <td>1.756801</td>\n",
       "      <td>Up</td>\n",
       "      <td>0.802493</td>\n",
       "    </tr>\n",
       "  </tbody>\n",
       "</table>\n",
       "</div>"
      ],
      "text/plain": [
       "               GeneID  Gene Length  RPKM-Group NI  RPKM-Group I  \\\n",
       "0  ENSSSCG00000026951       1013.0      29.200000      1.680000   \n",
       "1  ENSSSCG00000025928        645.0     801.721667   2709.401667   \n",
       "\n",
       "   log2Ratio(Group I/Group NI) Up-Down-Regulation(Group I/Group NI)  \\\n",
       "0                    -4.119435                                 Down   \n",
       "1                     1.756801                                   Up   \n",
       "\n",
       "   Probability  \n",
       "0     0.896351  \n",
       "1     0.802493  "
      ]
     },
     "execution_count": 19,
     "metadata": {},
     "output_type": "execute_result"
    }
   ],
   "source": [
    "s2_data.head(2)"
   ]
  },
  {
   "cell_type": "code",
   "execution_count": 20,
   "id": "405db3f4",
   "metadata": {},
   "outputs": [
    {
     "data": {
      "text/plain": [
       "<seaborn.axisgrid.FacetGrid at 0x1e3a8142be0>"
      ]
     },
     "execution_count": 20,
     "metadata": {},
     "output_type": "execute_result"
    },
    {
     "data": {
      "image/png": "[encoded data removed]",
      "text/plain": [
       "<Figure size 504x504 with 1 Axes>"
      ]
     },
     "metadata": {
      "needs_background": "light"
     },
     "output_type": "display_data"
    }
   ],
   "source": [
    "sns.displot(s2_data['Gene Length'], color='c',bins=50, \n",
    "            height=7, aspect=1)"
   ]
  },
  {
   "cell_type": "code",
   "execution_count": 74,
   "id": "54b81c77",
   "metadata": {},
   "outputs": [],
   "source": [
    "s2_data2 = s2_data.drop([56])\n",
    "s2_data2.shape"
   ]
  },
  {
   "cell_type": "code",
   "execution_count": 109,
   "id": "3c7c575f",
   "metadata": {},
   "outputs": [
    {
     "data": {
      "text/plain": [
       "<seaborn.axisgrid.FacetGrid at 0x1ca441ad610>"
      ]
     },
     "execution_count": 109,
     "metadata": {},
     "output_type": "execute_result"
    },
    {
     "data": {
      "image/png": "[encoded data removed]",
      "text/plain": [
       "<Figure size 705.625x504 with 1 Axes>"
      ]
     },
     "metadata": {
      "needs_background": "light"
     },
     "output_type": "display_data"
    }
   ],
   "source": [
    "sns.lmplot(x=\"RPKM-Group NI\", y=\"RPKM-Group I\", data=s2_data2, fit_reg=False, height=7, aspect=1, scatter_kws={'alpha':0.9,\"s\": 60}, \n",
    "           hue='Up-Down-Regulation(Group I/Group NI)', markers='D')"
   ]
  },
  {
   "cell_type": "code",
   "execution_count": 111,
   "id": "effd0bcf",
   "metadata": {},
   "outputs": [
    {
     "data": {
      "text/plain": [
       "<seaborn.axisgrid.FacetGrid at 0x1ca434422e0>"
      ]
     },
     "execution_count": 111,
     "metadata": {},
     "output_type": "execute_result"
    },
    {
     "data": {
      "image/png": "[encoded data removed]",
      "text/plain": [
       "<Figure size 705.625x504 with 1 Axes>"
      ]
     },
     "metadata": {
      "needs_background": "light"
     },
     "output_type": "display_data"
    }
   ],
   "source": [
    "sns.lmplot(x='log2Ratio(Group I/Group NI)', y=\"Gene Length\", data=s2_data2, fit_reg=False, height=7, aspect=1, scatter_kws={'alpha':0.7,\"s\": 60}, \n",
    "           hue='Up-Down-Regulation(Group I/Group NI)', markers='D')"
   ]
  },
  {
   "cell_type": "code",
   "execution_count": null,
   "id": "4e3edf75",
   "metadata": {},
   "outputs": [],
   "source": []
  }
 ],
 "metadata": {
  "kernelspec": {
   "display_name": "Python 3 (ipykernel)",
   "language": "python",
   "name": "python3"
  },
  "language_info": {
   "codemirror_mode": {
    "name": "ipython",
    "version": 3
   },
   "file_extension": ".py",
   "mimetype": "text/x-python",
   "name": "python",
   "nbconvert_exporter": "python",
   "pygments_lexer": "ipython3",
   "version": "3.9.12"
  }
 },
 "nbformat": 4,
 "nbformat_minor": 5
}
